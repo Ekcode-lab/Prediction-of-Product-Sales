{
  "nbformat": 4,
  "nbformat_minor": 0,
  "metadata": {
    "colab": {
      "provenance": [],
      "authorship_tag": "ABX9TyP49PDPNjMts7nnEcBDYZ/2",
      "include_colab_link": true
    },
    "kernelspec": {
      "name": "python3",
      "display_name": "Python 3"
    },
    "language_info": {
      "name": "python"
    }
  },
  "cells": [
    {
      "cell_type": "markdown",
      "metadata": {
        "id": "view-in-github",
        "colab_type": "text"
      },
      "source": [
        "<a href=\"https://colab.research.google.com/github/Ekcode-lab/Prediction-of-Product-Sales/blob/main/Prediction_of_Product_Sales.ipynb\" target=\"_parent\"><img src=\"https://colab.research.google.com/assets/colab-badge.svg\" alt=\"Open In Colab\"/></a>"
      ]
    },
    {
      "cell_type": "code",
      "execution_count": null,
      "metadata": {
        "id": "O38-AZOknrbx"
      },
      "outputs": [],
      "source": []
    },
    {
      "cell_type": "markdown",
      "source": [
        "# **Prediction of Product Sales**\n",
        "- Author: Kalumba Enock\n",
        "\n",
        "## **Project Overview**\n",
        "\n",
        "## Load and Inspect Data\n",
        "\n"
      ],
      "metadata": {
        "id": "akCD5Y_QntCJ"
      }
    },
    {
      "cell_type": "code",
      "source": [],
      "metadata": {
        "id": "e54A1HVJp26l"
      },
      "execution_count": null,
      "outputs": []
    },
    {
      "cell_type": "markdown",
      "source": [
        "\n",
        "## Clean Data\n"
      ],
      "metadata": {
        "id": "HrdlAgvqp5E-"
      }
    },
    {
      "cell_type": "code",
      "source": [],
      "metadata": {
        "id": "ntD0jcdxqHr4"
      },
      "execution_count": null,
      "outputs": []
    },
    {
      "cell_type": "markdown",
      "source": [
        "## Exploratory Data Analysis\n"
      ],
      "metadata": {
        "id": "Hr8fo98GqIte"
      }
    },
    {
      "cell_type": "code",
      "source": [],
      "metadata": {
        "id": "6p3yTO2XqSAC"
      },
      "execution_count": null,
      "outputs": []
    },
    {
      "cell_type": "markdown",
      "source": [
        "\n",
        "## Feature Inspection"
      ],
      "metadata": {
        "id": "CxYOcFcmqSpN"
      }
    },
    {
      "cell_type": "code",
      "source": [],
      "metadata": {
        "id": "tvO1oeBUqYWm"
      },
      "execution_count": null,
      "outputs": []
    }
  ]
}